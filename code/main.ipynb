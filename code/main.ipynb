{
 "cells": [
  {
   "cell_type": "code",
   "execution_count": 31,
   "metadata": {
    "ExecuteTime": {
     "end_time": "2019-09-14T12:34:09.046392Z",
     "start_time": "2019-09-14T12:34:09.038487Z"
    }
   },
   "outputs": [],
   "source": [
    "import numpy as np\n",
    "import pandas as pd\n",
    "from random import sample\n",
    "import dash\n",
    "import dash_core_components as dcc\n",
    "import dash_html_components as html\n",
    "from dash.dependencies import Input, Output\n",
    "from plotly import graph_objects as go\n",
    "from collections import defaultdict"
   ]
  },
  {
   "cell_type": "code",
   "execution_count": 95,
   "metadata": {
    "ExecuteTime": {
     "end_time": "2019-09-14T12:54:42.896091Z",
     "start_time": "2019-09-14T12:54:42.880384Z"
    }
   },
   "outputs": [
    {
     "data": {
      "text/html": [
       "<div>\n",
       "<style scoped>\n",
       "    .dataframe tbody tr th:only-of-type {\n",
       "        vertical-align: middle;\n",
       "    }\n",
       "\n",
       "    .dataframe tbody tr th {\n",
       "        vertical-align: top;\n",
       "    }\n",
       "\n",
       "    .dataframe thead th {\n",
       "        text-align: right;\n",
       "    }\n",
       "</style>\n",
       "<table border=\"1\" class=\"dataframe\">\n",
       "  <thead>\n",
       "    <tr style=\"text-align: right;\">\n",
       "      <th></th>\n",
       "      <th>number</th>\n",
       "      <th>text</th>\n",
       "    </tr>\n",
       "  </thead>\n",
       "  <tbody>\n",
       "    <tr>\n",
       "      <th>0</th>\n",
       "      <td>1</td>\n",
       "      <td>Вероятносное пространство. Аксиоматика Колмого...</td>\n",
       "    </tr>\n",
       "    <tr>\n",
       "      <th>1</th>\n",
       "      <td>2</td>\n",
       "      <td>Вероятносные меры на R. Функция распределения ...</td>\n",
       "    </tr>\n",
       "    <tr>\n",
       "      <th>2</th>\n",
       "      <td>3</td>\n",
       "      <td>Классификация вероятносных мер и функций распр...</td>\n",
       "    </tr>\n",
       "  </tbody>\n",
       "</table>\n",
       "</div>"
      ],
      "text/plain": [
       "   number                                               text\n",
       "0       1  Вероятносное пространство. Аксиоматика Колмого...\n",
       "1       2  Вероятносные меры на R. Функция распределения ...\n",
       "2       3  Классификация вероятносных мер и функций распр..."
      ]
     },
     "execution_count": 95,
     "metadata": {},
     "output_type": "execute_result"
    }
   ],
   "source": [
    "data = pd.read_csv('../program/program.csv', sep=';')\n",
    "scores = defaultdict(int)\n",
    "data.head()"
   ]
  },
  {
   "cell_type": "code",
   "execution_count": 167,
   "metadata": {
    "ExecuteTime": {
     "end_time": "2019-09-14T13:48:16.169588Z",
     "start_time": "2019-09-14T13:48:16.162810Z"
    }
   },
   "outputs": [],
   "source": [
    "\n",
    "\n",
    "def get_layout(title='', height=500):\n",
    "    standart_layout = go.Layout({\n",
    "        'height': height,\n",
    "        'width': 600,\n",
    "        'title': title,\n",
    "        'template': 'plotly_white'\n",
    "    })\n",
    "    \n",
    "    return standart_layout\n",
    "\n",
    "\n",
    "def get_random_ticket():\n",
    "    return sample([i for i in range(data.shape[0])], k=1)[0]\n",
    "\n",
    "CUR_TICKET = 0\n",
    "STATISTIC = defaultdict(int)\n",
    "G_CLICKS = 0\n",
    "B_CLICKS = 0\n",
    "S_CLICKS = 0\n",
    "for i in range(data.shape[0]):\n",
    "    STATISTIC[i] = [0, 0]"
   ]
  },
  {
   "cell_type": "markdown",
   "metadata": {},
   "source": [
    "# Front"
   ]
  },
  {
   "cell_type": "code",
   "execution_count": 168,
   "metadata": {
    "ExecuteTime": {
     "end_time": "2019-09-14T13:48:19.433094Z",
     "start_time": "2019-09-14T13:48:18.276351Z"
    }
   },
   "outputs": [],
   "source": [
    "external_stylesheets = ['https://codepen.io/chriddyp/pen/bWLwgP.css']\n",
    "\n",
    "app = dash.Dash(__name__, external_stylesheets=external_stylesheets)\n",
    "\n",
    "app.layout = html.Div([\n",
    "    html.H1('Start'),\n",
    "    \n",
    "    html.Div([dcc.Graph(figure=go.Figure(data=[], layout=get_layout('Распределение по билетам')),\n",
    "                       id='main_hist',\n",
    "                       style={'display': 'inline-block'}),\n",
    "              dcc.Graph(figure=go.Figure(data=[], layout=get_layout('Прогресс')),\n",
    "                       id='main_prog',\n",
    "                       style={'display': 'inline-block'})\n",
    "             ],\n",
    "             style={'display': 'inline-block'}\n",
    "    ),\n",
    "    html.Hr(),\n",
    "    html.H3(id='display_ticket', \n",
    "             children=\"Нажми start\",\n",
    "             style={'text-align': 'center'}\n",
    "            ),\n",
    "    html.Div(\n",
    "        [html.Button('Start', id='start_button', value='Start')],\n",
    "        style={'content-align': 'center'}\n",
    "    ),\n",
    "    html.Div([dcc.Graph(figure=go.Figure(data=[], layout=get_layout('Статистика по билету')), id='ticket_stat')],\n",
    "             style={'display': 'inline-block', 'centering': 'middle'},\n",
    "             ),\n",
    "    html.Hr(),\n",
    "    html.Div([\n",
    "        html.Button('Ok', id='good_button'),\n",
    "        html.Span(),\n",
    "        html.Button('Не Ok', id='bad_button')\n",
    "    ], \n",
    "    style={'display': 'inline-block', 'centering': 'middle'}\n",
    "    )\n",
    "    \n",
    "])\n",
    "    "
   ]
  },
  {
   "cell_type": "markdown",
   "metadata": {},
   "source": [
    "# Back"
   ]
  },
  {
   "cell_type": "code",
   "execution_count": 169,
   "metadata": {
    "ExecuteTime": {
     "end_time": "2019-09-14T13:48:19.505943Z",
     "start_time": "2019-09-14T13:48:19.488794Z"
    }
   },
   "outputs": [],
   "source": [
    "@app.callback(\n",
    "    Output('display_ticket', 'children'),\n",
    "    [Input('start_button', 'n_clicks')]\n",
    ")\n",
    "def display_text(n_clicks):\n",
    "    if n_clicks is None:\n",
    "        return u\"Нажми start\"\n",
    "    else:\n",
    "        global CUR_TICKET\n",
    "        CUR_TICKET = get_random_ticket()\n",
    "        return data['text'][CUR_TICKET]\n",
    "\n",
    "@app.callback(\n",
    "    Output('ticket_stat', 'figure'),\n",
    "    [Input('start_button', 'n_clicks'),\n",
    "     Input('good_button', 'n_clicks'), \n",
    "     Input('bad_button', 'n_clicks')]\n",
    ")\n",
    "def get_statistic(n_clicks, g_n_clicks=None, b_n_clicks=None):\n",
    "    \n",
    "    global G_CLICKS, B_CLICKS, STATISTIC, CUR_TICKET, S_CLICKS\n",
    "    if n_clicks is not None:\n",
    "        if n_clicks != S_CLICKS:\n",
    "            CUR_TICKET = get_random_ticket()\n",
    "            S_CLICKS += 1\n",
    "    if g_n_clicks is not None:\n",
    "        if b_n_clicks is not None:\n",
    "            if G_CLICKS != g_n_clicks:\n",
    "                to_update = STATISTIC[CUR_TICKET]\n",
    "                to_update[0] += 1\n",
    "                STATISTIC[CUR_TICKET] = to_update\n",
    "                G_CLICKS += 1\n",
    "                print(to_update)\n",
    "                \n",
    "            if B_CLICKS != b_n_clicks:\n",
    "                to_update = STATISTIC[CUR_TICKET]\n",
    "                to_update[1] += 1\n",
    "                print(to_update)\n",
    "                STATISTIC[CUR_TICKET] = to_update\n",
    "                B_CLICKS += 1\n",
    "                \n",
    "        if G_CLICKS != g_n_clicks:\n",
    "            to_update = STATISTIC[CUR_TICKET]\n",
    "            to_update[0] += 1\n",
    "            print(to_update)\n",
    "            STATISTIC[CUR_TICKET] = to_update\n",
    "            G_CLICKS += 1\n",
    "            \n",
    "    \n",
    "    if b_n_clicks is not None:   \n",
    "        if B_CLICKS != b_n_clicks:\n",
    "            to_update = STATISTIC[CUR_TICKET]\n",
    "            to_update[1] += 1\n",
    "            print(to_update)\n",
    "            STATISTIC[CUR_TICKET] = to_update\n",
    "            B_CLICKS += 1\n",
    "    \n",
    "    x = ['Правильно', 'Неправильно']           \n",
    "    y = STATISTIC[CUR_TICKET]\n",
    "    bar = go.Bar({\n",
    "        'x': x,\n",
    "        'y': y,\n",
    "        'marker': {\n",
    "            'color': ['green', 'red']\n",
    "        }\n",
    "    })\n",
    "    return go.Figure(data=[bar], layout=get_layout('Статистика по билету'))\n",
    "    \n"
   ]
  },
  {
   "cell_type": "code",
   "execution_count": 170,
   "metadata": {
    "ExecuteTime": {
     "end_time": "2019-09-14T13:49:23.232443Z",
     "start_time": "2019-09-14T13:48:20.373716Z"
    }
   },
   "outputs": [
    {
     "name": "stderr",
     "output_type": "stream",
     "text": [
      " * Running on http://localhost:8899/ (Press CTRL+C to quit)\n",
      "127.0.0.1 - - [14/Sep/2019 16:48:23] \"\u001b[37mGET / HTTP/1.1\u001b[0m\" 200 -\n",
      "127.0.0.1 - - [14/Sep/2019 16:48:23] \"\u001b[37mGET /_dash-component-suites/dash_renderer/react@16.8.6.min.js?v=1.0.0&m=1563475972 HTTP/1.1\u001b[0m\" 200 -\n",
      "127.0.0.1 - - [14/Sep/2019 16:48:23] \"\u001b[37mGET /_dash-component-suites/dash_renderer/react-dom@16.8.6.min.js?v=1.0.0&m=1563475972 HTTP/1.1\u001b[0m\" 200 -\n",
      "127.0.0.1 - - [14/Sep/2019 16:48:23] \"\u001b[37mGET /_dash-component-suites/dash_renderer/prop-types@15.7.2.min.js?v=1.0.0&m=1563475972 HTTP/1.1\u001b[0m\" 200 -\n",
      "127.0.0.1 - - [14/Sep/2019 16:48:23] \"\u001b[37mGET /_dash-component-suites/dash_core_components/plotly-1.48.3.min.js?v=1.0.0&m=1563474247 HTTP/1.1\u001b[0m\" 200 -\n",
      "127.0.0.1 - - [14/Sep/2019 16:48:23] \"\u001b[37mGET /_dash-component-suites/dash_core_components/highlight.pack.js?v=1.0.0&m=1563474247 HTTP/1.1\u001b[0m\" 200 -\n",
      "127.0.0.1 - - [14/Sep/2019 16:48:23] \"\u001b[37mGET /_dash-component-suites/dash_core_components/dash_core_components.min.js?v=1.0.0&m=1563474247 HTTP/1.1\u001b[0m\" 200 -\n",
      "127.0.0.1 - - [14/Sep/2019 16:48:23] \"\u001b[37mGET /_dash-component-suites/dash_html_components/dash_html_components.min.js?v=1.0.0&m=1563474987 HTTP/1.1\u001b[0m\" 200 -\n",
      "127.0.0.1 - - [14/Sep/2019 16:48:23] \"\u001b[37mGET /_dash-component-suites/dash_renderer/dash_renderer.min.js?v=1.0.0&m=1563475972 HTTP/1.1\u001b[0m\" 200 -\n",
      "127.0.0.1 - - [14/Sep/2019 16:48:24] \"\u001b[37mGET /_dash-layout HTTP/1.1\u001b[0m\" 200 -\n",
      "127.0.0.1 - - [14/Sep/2019 16:48:24] \"\u001b[37mGET /_dash-dependencies HTTP/1.1\u001b[0m\" 200 -\n",
      "127.0.0.1 - - [14/Sep/2019 16:48:24] \"\u001b[37mGET /_favicon.ico?v=1.0.2 HTTP/1.1\u001b[0m\" 200 -\n",
      "127.0.0.1 - - [14/Sep/2019 16:48:25] \"\u001b[37mPOST /_dash-update-component HTTP/1.1\u001b[0m\" 200 -\n",
      "127.0.0.1 - - [14/Sep/2019 16:48:25] \"\u001b[37mPOST /_dash-update-component HTTP/1.1\u001b[0m\" 200 -\n",
      "127.0.0.1 - - [14/Sep/2019 16:48:26] \"\u001b[37mPOST /_dash-update-component HTTP/1.1\u001b[0m\" 200 -\n",
      "127.0.0.1 - - [14/Sep/2019 16:48:26] \"\u001b[37mPOST /_dash-update-component HTTP/1.1\u001b[0m\" 200 -\n"
     ]
    },
    {
     "name": "stdout",
     "output_type": "stream",
     "text": [
      "[1, 0]\n"
     ]
    },
    {
     "name": "stderr",
     "output_type": "stream",
     "text": [
      "127.0.0.1 - - [14/Sep/2019 16:48:29] \"\u001b[37mPOST /_dash-update-component HTTP/1.1\u001b[0m\" 200 -\n"
     ]
    },
    {
     "name": "stdout",
     "output_type": "stream",
     "text": [
      "[1, 1]\n"
     ]
    },
    {
     "name": "stderr",
     "output_type": "stream",
     "text": [
      "127.0.0.1 - - [14/Sep/2019 16:48:30] \"\u001b[37mPOST /_dash-update-component HTTP/1.1\u001b[0m\" 200 -\n"
     ]
    },
    {
     "name": "stdout",
     "output_type": "stream",
     "text": [
      "[2, 1]\n"
     ]
    },
    {
     "name": "stderr",
     "output_type": "stream",
     "text": [
      "127.0.0.1 - - [14/Sep/2019 16:48:32] \"\u001b[37mPOST /_dash-update-component HTTP/1.1\u001b[0m\" 200 -\n",
      "127.0.0.1 - - [14/Sep/2019 16:48:34] \"\u001b[37mPOST /_dash-update-component HTTP/1.1\u001b[0m\" 200 -\n",
      "127.0.0.1 - - [14/Sep/2019 16:48:34] \"\u001b[37mPOST /_dash-update-component HTTP/1.1\u001b[0m\" 200 -\n",
      "127.0.0.1 - - [14/Sep/2019 16:48:39] \"\u001b[37mPOST /_dash-update-component HTTP/1.1\u001b[0m\" 200 -\n",
      "127.0.0.1 - - [14/Sep/2019 16:48:39] \"\u001b[37mPOST /_dash-update-component HTTP/1.1\u001b[0m\" 200 -\n"
     ]
    },
    {
     "name": "stdout",
     "output_type": "stream",
     "text": [
      "[0, 1]\n"
     ]
    },
    {
     "name": "stderr",
     "output_type": "stream",
     "text": [
      "127.0.0.1 - - [14/Sep/2019 16:48:42] \"\u001b[37mPOST /_dash-update-component HTTP/1.1\u001b[0m\" 200 -\n",
      "127.0.0.1 - - [14/Sep/2019 16:48:44] \"\u001b[37mPOST /_dash-update-component HTTP/1.1\u001b[0m\" 200 -\n",
      "127.0.0.1 - - [14/Sep/2019 16:48:44] \"\u001b[37mPOST /_dash-update-component HTTP/1.1\u001b[0m\" 200 -\n",
      "127.0.0.1 - - [14/Sep/2019 16:48:46] \"\u001b[37mPOST /_dash-update-component HTTP/1.1\u001b[0m\" 200 -\n",
      "127.0.0.1 - - [14/Sep/2019 16:48:46] \"\u001b[37mPOST /_dash-update-component HTTP/1.1\u001b[0m\" 200 -\n",
      "127.0.0.1 - - [14/Sep/2019 16:48:48] \"\u001b[37mPOST /_dash-update-component HTTP/1.1\u001b[0m\" 200 -\n",
      "127.0.0.1 - - [14/Sep/2019 16:48:48] \"\u001b[37mPOST /_dash-update-component HTTP/1.1\u001b[0m\" 200 -\n",
      "127.0.0.1 - - [14/Sep/2019 16:48:49] \"\u001b[37mPOST /_dash-update-component HTTP/1.1\u001b[0m\" 200 -\n",
      "127.0.0.1 - - [14/Sep/2019 16:48:49] \"\u001b[37mPOST /_dash-update-component HTTP/1.1\u001b[0m\" 200 -\n",
      "127.0.0.1 - - [14/Sep/2019 16:48:51] \"\u001b[37mPOST /_dash-update-component HTTP/1.1\u001b[0m\" 200 -\n",
      "127.0.0.1 - - [14/Sep/2019 16:48:51] \"\u001b[37mPOST /_dash-update-component HTTP/1.1\u001b[0m\" 200 -\n",
      "127.0.0.1 - - [14/Sep/2019 16:48:54] \"\u001b[37mPOST /_dash-update-component HTTP/1.1\u001b[0m\" 200 -\n",
      "127.0.0.1 - - [14/Sep/2019 16:48:54] \"\u001b[37mPOST /_dash-update-component HTTP/1.1\u001b[0m\" 200 -\n",
      "127.0.0.1 - - [14/Sep/2019 16:48:56] \"\u001b[37mPOST /_dash-update-component HTTP/1.1\u001b[0m\" 200 -\n",
      "127.0.0.1 - - [14/Sep/2019 16:48:56] \"\u001b[37mPOST /_dash-update-component HTTP/1.1\u001b[0m\" 200 -\n",
      "127.0.0.1 - - [14/Sep/2019 16:48:57] \"\u001b[37mPOST /_dash-update-component HTTP/1.1\u001b[0m\" 200 -\n",
      "127.0.0.1 - - [14/Sep/2019 16:48:57] \"\u001b[37mPOST /_dash-update-component HTTP/1.1\u001b[0m\" 200 -\n",
      "127.0.0.1 - - [14/Sep/2019 16:48:58] \"\u001b[37mPOST /_dash-update-component HTTP/1.1\u001b[0m\" 200 -\n",
      "127.0.0.1 - - [14/Sep/2019 16:48:58] \"\u001b[37mPOST /_dash-update-component HTTP/1.1\u001b[0m\" 200 -\n",
      "127.0.0.1 - - [14/Sep/2019 16:49:00] \"\u001b[37mPOST /_dash-update-component HTTP/1.1\u001b[0m\" 200 -\n",
      "127.0.0.1 - - [14/Sep/2019 16:49:00] \"\u001b[37mPOST /_dash-update-component HTTP/1.1\u001b[0m\" 200 -\n"
     ]
    },
    {
     "name": "stdout",
     "output_type": "stream",
     "text": [
      "[3, 1]\n"
     ]
    },
    {
     "name": "stderr",
     "output_type": "stream",
     "text": [
      "127.0.0.1 - - [14/Sep/2019 16:49:03] \"\u001b[37mPOST /_dash-update-component HTTP/1.1\u001b[0m\" 200 -\n",
      "127.0.0.1 - - [14/Sep/2019 16:49:06] \"\u001b[37mPOST /_dash-update-component HTTP/1.1\u001b[0m\" 200 -\n",
      "127.0.0.1 - - [14/Sep/2019 16:49:06] \"\u001b[37mPOST /_dash-update-component HTTP/1.1\u001b[0m\" 200 -\n",
      "127.0.0.1 - - [14/Sep/2019 16:49:07] \"\u001b[37mPOST /_dash-update-component HTTP/1.1\u001b[0m\" 200 -\n",
      "127.0.0.1 - - [14/Sep/2019 16:49:07] \"\u001b[37mPOST /_dash-update-component HTTP/1.1\u001b[0m\" 200 -\n",
      "127.0.0.1 - - [14/Sep/2019 16:49:09] \"\u001b[37mPOST /_dash-update-component HTTP/1.1\u001b[0m\" 200 -\n",
      "127.0.0.1 - - [14/Sep/2019 16:49:09] \"\u001b[37mPOST /_dash-update-component HTTP/1.1\u001b[0m\" 200 -\n",
      "127.0.0.1 - - [14/Sep/2019 16:49:10] \"\u001b[37mPOST /_dash-update-component HTTP/1.1\u001b[0m\" 200 -\n",
      "127.0.0.1 - - [14/Sep/2019 16:49:10] \"\u001b[37mPOST /_dash-update-component HTTP/1.1\u001b[0m\" 200 -\n",
      "127.0.0.1 - - [14/Sep/2019 16:49:11] \"\u001b[37mPOST /_dash-update-component HTTP/1.1\u001b[0m\" 200 -\n",
      "127.0.0.1 - - [14/Sep/2019 16:49:11] \"\u001b[37mPOST /_dash-update-component HTTP/1.1\u001b[0m\" 200 -\n"
     ]
    },
    {
     "name": "stdout",
     "output_type": "stream",
     "text": [
      "[1, 1]\n"
     ]
    },
    {
     "name": "stderr",
     "output_type": "stream",
     "text": [
      "127.0.0.1 - - [14/Sep/2019 16:49:14] \"\u001b[37mPOST /_dash-update-component HTTP/1.1\u001b[0m\" 200 -\n"
     ]
    }
   ],
   "source": [
    "app.server.run(host='localhost', port=8899)"
   ]
  },
  {
   "cell_type": "code",
   "execution_count": 171,
   "metadata": {
    "ExecuteTime": {
     "end_time": "2019-09-14T13:49:27.107094Z",
     "start_time": "2019-09-14T13:49:27.095779Z"
    }
   },
   "outputs": [
    {
     "data": {
      "text/plain": [
       "defaultdict(int, {0: [1, 1], 1: [0, 0], 2: [3, 1]})"
      ]
     },
     "execution_count": 171,
     "metadata": {},
     "output_type": "execute_result"
    }
   ],
   "source": []
  }
 ],
 "metadata": {
  "hide_input": false,
  "kernelspec": {
   "display_name": "Python 3",
   "language": "python",
   "name": "python3"
  },
  "language_info": {
   "codemirror_mode": {
    "name": "ipython",
    "version": 3
   },
   "file_extension": ".py",
   "mimetype": "text/x-python",
   "name": "python",
   "nbconvert_exporter": "python",
   "pygments_lexer": "ipython3",
   "version": "3.6.8"
  },
  "latex_envs": {
   "LaTeX_envs_menu_present": true,
   "autoclose": false,
   "autocomplete": true,
   "bibliofile": "biblio.bib",
   "cite_by": "apalike",
   "current_citInitial": 1,
   "eqLabelWithNumbers": true,
   "eqNumInitial": 1,
   "hotkeys": {
    "equation": "Ctrl-E",
    "itemize": "Ctrl-I"
   },
   "labels_anchors": false,
   "latex_user_defs": false,
   "report_style_numbering": false,
   "user_envs_cfg": false
  },
  "varInspector": {
   "cols": {
    "lenName": 16,
    "lenType": 16,
    "lenVar": 40
   },
   "kernels_config": {
    "python": {
     "delete_cmd_postfix": "",
     "delete_cmd_prefix": "del ",
     "library": "var_list.py",
     "varRefreshCmd": "print(var_dic_list())"
    },
    "r": {
     "delete_cmd_postfix": ") ",
     "delete_cmd_prefix": "rm(",
     "library": "var_list.r",
     "varRefreshCmd": "cat(var_dic_list()) "
    }
   },
   "types_to_exclude": [
    "module",
    "function",
    "builtin_function_or_method",
    "instance",
    "_Feature"
   ],
   "window_display": false
  }
 },
 "nbformat": 4,
 "nbformat_minor": 2
}
