{
 "cells": [
  {
   "cell_type": "code",
   "execution_count": 3,
   "metadata": {
    "ExecuteTime": {
     "end_time": "2019-09-14T20:12:02.397540Z",
     "start_time": "2019-09-14T20:11:58.826690Z"
    }
   },
   "outputs": [],
   "source": [
    "import numpy as np\n",
    "import pandas as pd\n",
    "from random import sample\n",
    "import dash\n",
    "import dash_core_components as dcc\n",
    "import dash_html_components as html\n",
    "from dash.dependencies import Input, Output\n",
    "from plotly import graph_objects as go\n",
    "from collections import defaultdict\n",
    "import datetime"
   ]
  },
  {
   "cell_type": "code",
   "execution_count": null,
   "metadata": {
    "ExecuteTime": {
     "end_time": "2019-09-14T15:37:52.897725Z",
     "start_time": "2019-09-14T15:37:52.843180Z"
    }
   },
   "outputs": [],
   "source": [
    "data = pd.read_csv('program.csv', sep=';')\n",
    "scores = defaultdict(int)\n",
    "data.head()"
   ]
  },
  {
   "cell_type": "code",
   "execution_count": null,
   "metadata": {
    "ExecuteTime": {
     "end_time": "2019-09-14T15:58:11.338518Z",
     "start_time": "2019-09-14T15:58:11.331130Z"
    }
   },
   "outputs": [],
   "source": [
    "\n",
    "\n",
    "def get_layout(title='', height=500):\n",
    "    standart_layout = go.Layout({\n",
    "        'height': height,\n",
    "        'width': 600,\n",
    "        'title': title,\n",
    "        'template': 'plotly_white'\n",
    "    })\n",
    "    \n",
    "    return standart_layout\n",
    "\n",
    "\n",
    "def get_random_ticket():\n",
    "    return sample([i for i in range(data.shape[0])], k=1)[0]\n",
    "\n",
    "CUR_TICKET = 0\n",
    "STATISTIC = defaultdict(int)\n",
    "G_CLICKS = 0\n",
    "B_CLICKS = 0\n",
    "S_CLICKS = 0\n",
    "CUR_DATE = str(datetime.datetime.today()).split()[0]\n",
    "for i in range(data.shape[0]):\n",
    "    STATISTIC[i] = [0, 0]\n",
    "dates = [str(datetime.datetime.today() - datetime.timedelta(days=1)).split()[0],\n",
    "         str(datetime.datetime.today()).split()[0]]"
   ]
  },
  {
   "cell_type": "markdown",
   "metadata": {},
   "source": [
    "# Front"
   ]
  },
  {
   "cell_type": "code",
   "execution_count": 2,
   "metadata": {
    "ExecuteTime": {
     "end_time": "2019-09-14T20:11:56.339754Z",
     "start_time": "2019-09-14T20:11:56.291376Z"
    }
   },
   "outputs": [
    {
     "ename": "NameError",
     "evalue": "name 'dash' is not defined",
     "output_type": "error",
     "traceback": [
      "\u001b[0;31m---------------------------------------------------------------------------\u001b[0m",
      "\u001b[0;31mNameError\u001b[0m                                 Traceback (most recent call last)",
      "\u001b[0;32m<ipython-input-2-0ff6dc6d1dc3>\u001b[0m in \u001b[0;36m<module>\u001b[0;34m()\u001b[0m\n\u001b[1;32m      1\u001b[0m \u001b[0mexternal_stylesheets\u001b[0m \u001b[0;34m=\u001b[0m \u001b[0;34m[\u001b[0m\u001b[0;34m'https://codepen.io/chriddyp/pen/bWLwgP.css'\u001b[0m\u001b[0;34m]\u001b[0m\u001b[0;34m\u001b[0m\u001b[0;34m\u001b[0m\u001b[0m\n\u001b[1;32m      2\u001b[0m \u001b[0;34m\u001b[0m\u001b[0m\n\u001b[0;32m----> 3\u001b[0;31m \u001b[0mapp\u001b[0m \u001b[0;34m=\u001b[0m \u001b[0mdash\u001b[0m\u001b[0;34m.\u001b[0m\u001b[0mDash\u001b[0m\u001b[0;34m(\u001b[0m\u001b[0m__name__\u001b[0m\u001b[0;34m,\u001b[0m \u001b[0mexternal_stylesheets\u001b[0m\u001b[0;34m=\u001b[0m\u001b[0mexternal_stylesheets\u001b[0m\u001b[0;34m)\u001b[0m\u001b[0;34m\u001b[0m\u001b[0;34m\u001b[0m\u001b[0m\n\u001b[0m\u001b[1;32m      4\u001b[0m \u001b[0;34m\u001b[0m\u001b[0m\n\u001b[1;32m      5\u001b[0m app.layout = html.Div([\n",
      "\u001b[0;31mNameError\u001b[0m: name 'dash' is not defined"
     ]
    }
   ],
   "source": [
    "external_stylesheets = ['https://codepen.io/chriddyp/pen/bWLwgP.css']\n",
    "\n",
    "app = dash.Dash(__name__, external_stylesheets=external_stylesheets)\n",
    "\n",
    "app.layout = html.Div([\n",
    "    html.H1('Start'),\n",
    "    \n",
    "    html.Div([dcc.Graph(figure=go.Figure(data=[], layout=get_layout('Распределение по билетам')),\n",
    "                       id='main_hist',\n",
    "                       style={'display': 'inline-block'}),\n",
    "              dcc.Graph(figure=go.Figure(data=[], layout=get_layout('Прогресс')),\n",
    "                       id='main_prog',\n",
    "                       style={'display': 'inline-block'})\n",
    "             ],\n",
    "             style={'display': 'inline-block'}\n",
    "    ),\n",
    "    html.Div([html.Button('Update', id='update_button')]),\n",
    "    html.Hr(),\n",
    "    html.H3(id='display_ticket', \n",
    "             children=\"Нажми start\",\n",
    "             style={'text-align': 'center'}\n",
    "            ),\n",
    "    html.Div(\n",
    "        [html.Button('Start', id='start_button', value='Start')],\n",
    "        style={'content-align': 'center'}\n",
    "    ),\n",
    "    html.Div([dcc.Graph(figure=go.Figure(data=[], layout=get_layout('Статистика по билету')), id='ticket_stat')],\n",
    "             style={'display': 'inline-block', 'centering': 'middle'},\n",
    "             ),\n",
    "    html.Hr(),\n",
    "    html.Div([\n",
    "        html.Button('Ok', id='good_button'),\n",
    "        html.Span(),\n",
    "        html.Button('Не Ok', id='bad_button')\n",
    "    ], \n",
    "    style={'display': 'inline-block', 'centering': 'middle'}\n",
    "    )\n",
    "    \n",
    "])\n"
   ]
  },
  {
   "cell_type": "markdown",
   "metadata": {},
   "source": [
    "# Back"
   ]
  },
  {
   "cell_type": "code",
   "execution_count": null,
   "metadata": {
    "ExecuteTime": {
     "end_time": "2019-09-14T16:06:13.998464Z",
     "start_time": "2019-09-14T16:06:13.975279Z"
    }
   },
   "outputs": [],
   "source": [
    "@app.callback(\n",
    "    [Output('display_ticket', 'children'),\n",
    "     Output('ticket_stat', 'figure')],\n",
    "    [Input('start_button', 'n_clicks'),\n",
    "     Input('good_button', 'n_clicks'), \n",
    "     Input('bad_button', 'n_clicks')]\n",
    ")\n",
    "def get_statistic(n_clicks, g_n_clicks=None, b_n_clicks=None):\n",
    "    \n",
    "    global G_CLICKS, B_CLICKS, STATISTIC, CUR_TICKET, S_CLICKS\n",
    "    if n_clicks is not None:\n",
    "        if n_clicks != S_CLICKS:\n",
    "            S_CLICKS += 1\n",
    "            CUR_TICKET = get_random_ticket()\n",
    "    if g_n_clicks is not None:\n",
    "        if b_n_clicks is not None:\n",
    "            if G_CLICKS != g_n_clicks:\n",
    "                to_update = STATISTIC[CUR_TICKET]\n",
    "                to_update[0] += 1\n",
    "                STATISTIC[CUR_TICKET] = to_update\n",
    "                G_CLICKS += 1\n",
    "                print(to_update)\n",
    "                \n",
    "            if B_CLICKS != b_n_clicks:\n",
    "                to_update = STATISTIC[CUR_TICKET]\n",
    "                to_update[1] += 1\n",
    "                print(to_update)\n",
    "                STATISTIC[CUR_TICKET] = to_update\n",
    "                B_CLICKS += 1\n",
    "                \n",
    "        if G_CLICKS != g_n_clicks:\n",
    "            to_update = STATISTIC[CUR_TICKET]\n",
    "            to_update[0] += 1\n",
    "            print(to_update)\n",
    "            STATISTIC[CUR_TICKET] = to_update\n",
    "            G_CLICKS += 1\n",
    "            \n",
    "    \n",
    "    if b_n_clicks is not None:   \n",
    "        if B_CLICKS != b_n_clicks:\n",
    "            to_update = STATISTIC[CUR_TICKET]\n",
    "            to_update[1] += 1\n",
    "            print(to_update)\n",
    "            STATISTIC[CUR_TICKET] = to_update\n",
    "            B_CLICKS += 1\n",
    "    \n",
    "    x = ['Правильно', 'Неправильно']           \n",
    "    y = STATISTIC[CUR_TICKET]\n",
    "    bar = go.Bar({\n",
    "        'x': x,\n",
    "        'y': y,\n",
    "        'marker': {\n",
    "            'color': ['green', 'red']\n",
    "        }\n",
    "    })\n",
    "    return data['text'][CUR_TICKET], go.Figure(data=[bar], layout=get_layout('Статистика по билету'))\n",
    "    \n",
    "@app.callback(\n",
    "    [Output('main_hist', 'figure'),\n",
    "    Output('main_prog', 'figure')],\n",
    "    [Input('update_button', 'n_clicks')]\n",
    ")\n",
    "def update_stat(n_clicks):\n",
    "    if n_clicks is not None:\n",
    "        x = data.number.values\n",
    "        y_p = [v[0] for k, v in STATISTIC.items()]\n",
    "        y_n = [v[1] for k, v in STATISTIC.items()]\n",
    "        trace_positive = go.Bar({\n",
    "            'x': x,\n",
    "            'y': y_p,\n",
    "            'marker': {\n",
    "                'color': 'green'\n",
    "            },\n",
    "            'name': 'Правильно'\n",
    "            \n",
    "        })\n",
    "        trace_negative = go.Bar({\n",
    "            'x': x,\n",
    "            'y': y_n,\n",
    "            'marker': {\n",
    "                'color': 'red'\n",
    "            },\n",
    "            'name': 'Неправильно'\n",
    "        })\n",
    "        layout = go.Layout({\n",
    "            'height': 500,\n",
    "            'width': 600,\n",
    "            'title': 'Распределение по билетам',\n",
    "            'template': 'plotly_white',\n",
    "            'barmode': 'stack'\n",
    "        })\n",
    "        fig_h = go.Figure(data= [trace_positive, trace_negative], layout=layout)\n",
    "        global dates, CUR_DATE\n",
    "        if CUR_DATE != str(datetime.datetime.today()).split()[0]:\n",
    "            dates.append(str(datetime.datetime.today()).split()[0])\n",
    "            CUR_DATE = str(datetime.datetime.today()).split()[0]\n",
    "        x_dates = dates\n",
    "        # TODO\n",
    "        \n",
    "  \n",
    "        \n",
    "        return [fig_h, go.Figure(data=[], layout=get_layout('Прогресс'))]"
   ]
  },
  {
   "cell_type": "code",
   "execution_count": null,
   "metadata": {
    "ExecuteTime": {
     "start_time": "2019-09-14T16:06:14.319Z"
    }
   },
   "outputs": [],
   "source": [
    "CUR_TICKET = 0\n",
    "G_CLICKS = 0\n",
    "B_CLICKS = 0\n",
    "S_CLICKS = 0\n",
    "app.server.run(host='localhost', port=8899)"
   ]
  }
 ],
 "metadata": {
  "hide_input": false,
  "kernelspec": {
   "display_name": "Python 3",
   "language": "python",
   "name": "python3"
  },
  "language_info": {
   "codemirror_mode": {
    "name": "ipython",
    "version": 3
   },
   "file_extension": ".py",
   "mimetype": "text/x-python",
   "name": "python",
   "nbconvert_exporter": "python",
   "pygments_lexer": "ipython3",
   "version": "3.6.8"
  },
  "latex_envs": {
   "LaTeX_envs_menu_present": true,
   "autoclose": false,
   "autocomplete": true,
   "bibliofile": "biblio.bib",
   "cite_by": "apalike",
   "current_citInitial": 1,
   "eqLabelWithNumbers": true,
   "eqNumInitial": 1,
   "hotkeys": {
    "equation": "Ctrl-E",
    "itemize": "Ctrl-I"
   },
   "labels_anchors": false,
   "latex_user_defs": false,
   "report_style_numbering": false,
   "user_envs_cfg": false
  },
  "varInspector": {
   "cols": {
    "lenName": 16,
    "lenType": 16,
    "lenVar": 40
   },
   "kernels_config": {
    "python": {
     "delete_cmd_postfix": "",
     "delete_cmd_prefix": "del ",
     "library": "var_list.py",
     "varRefreshCmd": "print(var_dic_list())"
    },
    "r": {
     "delete_cmd_postfix": ") ",
     "delete_cmd_prefix": "rm(",
     "library": "var_list.r",
     "varRefreshCmd": "cat(var_dic_list()) "
    }
   },
   "types_to_exclude": [
    "module",
    "function",
    "builtin_function_or_method",
    "instance",
    "_Feature"
   ],
   "window_display": false
  }
 },
 "nbformat": 4,
 "nbformat_minor": 2
}
